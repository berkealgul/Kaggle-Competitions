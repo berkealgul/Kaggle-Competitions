{
 "cells": [
  {
   "cell_type": "code",
   "execution_count": 10,
   "metadata": {},
   "outputs": [],
   "source": [
    "import numpy as np\n",
    "import torch as T\n",
    "import torch.nn as nn\n",
    "import torch.nn.functional as F\n",
    "import torch.optim as optim\n",
    "import pandas as pd\n",
    "import matplotlib.pyplot as plt"
   ]
  },
  {
   "cell_type": "code",
   "execution_count": 11,
   "metadata": {},
   "outputs": [],
   "source": [
    "def load_csv(filePath, is_test=False):\n",
    "    df = pd.read_csv(filePath)\n",
    "    # split cabin\n",
    "    df[[\"Deck\", \"Cabin_num\", \"Side\"]] = df[\"Cabin\"].str.split(\"/\", expand=True)\n",
    "    # map values to int index\n",
    "    home_planet_dict = {'Europa':1, 'Earth':2, 'Mars':3}\n",
    "    side_dict = {'P':1, 'S':2}\n",
    "    destination_dict = {'TRAPPIST-1e':1,'PSO J318.5-22':2, '55 Cancri e':3}\n",
    "    deck_dict = {'A':1, 'B':2, 'C':3, 'D':4, 'E':5, 'F':6, 'G':7, 'T':8}\n",
    "    #cabin_to_index )\n",
    "    df['HomePlanet'] = df['HomePlanet'].map(home_planet_dict)\n",
    "    df['Side'] = df['Side'].map(side_dict)\n",
    "    df['Destination'] = df['Destination'].map(destination_dict)\n",
    "    df['Deck'] = df['Deck'].map(deck_dict)\n",
    "    # fill nan with zero\n",
    "    columns_to_fill_zero = ['HomePlanet', 'CryoSleep', 'Destination', 'Age', 'VIP', 'RoomService',\n",
    "                             'FoodCourt', 'ShoppingMall', 'Spa', 'VRDeck', 'Deck',\n",
    "                             'Cabin_num', 'Side']\n",
    "    \n",
    "    if is_test is False:\n",
    "        columns_to_fill_zero.append('Transported')\n",
    "\n",
    "    df[columns_to_fill_zero] = df[columns_to_fill_zero].fillna(0)\n",
    "    # convert to int\n",
    "    df['VIP'] = df['VIP'].astype(int)\n",
    "    df['CryoSleep'] = df['CryoSleep'].astype(int)\n",
    "    df['Cabin_num'] = df['Cabin_num'].astype(int)\n",
    "\n",
    "    if is_test is False:\n",
    "        df['Transported'] = df['Transported'].astype(int)\n",
    "        transported_df = df['Transported'].copy()\n",
    "        df = df.drop(['PassengerId', 'Name', 'Cabin', 'Transported'], axis=1) \n",
    "        return df, transported_df\n",
    "    else:\n",
    "        passanger_df = df['PassengerId'].copy()\n",
    "        df = df.drop(['PassengerId', 'Name','Cabin'], axis=1) \n",
    "        return df, passanger_df"
   ]
  },
  {
   "cell_type": "code",
   "execution_count": 15,
   "metadata": {},
   "outputs": [],
   "source": [
    "class Model(nn.Module):\n",
    "    def __init__(self, lr):\n",
    "        super(Model, self).__init__()\n",
    "\n",
    "        fc1_dims = 10\n",
    "        fc2_dims = 10\n",
    "        input_dims = 13\n",
    "        \n",
    "        self.fc1 = nn.Linear(input_dims, fc1_dims)\n",
    "        self.fc2 = nn.Linear(fc1_dims, fc2_dims)\n",
    "        self.out = nn.Linear(fc2_dims, 1)\n",
    "\n",
    "        self.optimizer = optim.Adam(self.parameters(), lr=lr)\n",
    "        self.device = T.device(\"cuda:0\" if T.cuda.is_available() else \"cpu\")\n",
    "        self.loss = nn.MSELoss()\n",
    "        self.to(self.device)\n",
    "\n",
    "    def forward(self, input):\n",
    "        p = self.fc1(input)\n",
    "        p = F.relu(p)\n",
    "        p = self.fc2(p)\n",
    "        p = F.relu(p)\n",
    "        p = self.out(p)\n",
    "        p = F.relu(p)\n",
    "        return p"
   ]
  },
  {
   "cell_type": "code",
   "execution_count": 13,
   "metadata": {},
   "outputs": [],
   "source": [
    "def df_to_np(df):\n",
    "    df_ = df.to_numpy(dtype=float)\n",
    "    return df_"
   ]
  },
  {
   "cell_type": "code",
   "execution_count": 16,
   "metadata": {},
   "outputs": [
    {
     "name": "stderr",
     "output_type": "stream",
     "text": [
      "C:\\Users\\tr.DESKTOP-TRQB92B\\AppData\\Local\\Packages\\PythonSoftwareFoundation.Python.3.9_qbz5n2kfra8p0\\LocalCache\\local-packages\\Python39\\site-packages\\torch\\nn\\modules\\loss.py:520: UserWarning: Using a target size (torch.Size([64, 1])) that is different to the input size (torch.Size([64])). This will likely lead to incorrect results due to broadcasting. Please ensure they have the same size.\n",
      "  return F.mse_loss(input, target, reduction=self.reduction)\n"
     ]
    },
    {
     "data": {
      "text/plain": [
       "[<matplotlib.lines.Line2D at 0x14f028ef0d0>]"
      ]
     },
     "execution_count": 16,
     "metadata": {},
     "output_type": "execute_result"
    },
    {
     "data": {
      "image/png": "[encoded data removed]",
      "text/plain": [
       "<Figure size 432x288 with 1 Axes>"
      ]
     },
     "metadata": {
      "needs_background": "light"
     },
     "output_type": "display_data"
    }
   ],
   "source": [
    "train_df, transported_df = load_csv(\"train.csv\")\n",
    "test_df, passanger_df = load_csv(\"test.csv\", True)\n",
    "\n",
    "train_array = df_to_np(train_df)\n",
    "transported_array = df_to_np(transported_df)\n",
    "\n",
    "learning_rate = 0.001\n",
    "batch_size = 64\n",
    "dataset_counter = int(transported_array.shape[0] / batch_size)\n",
    "losses = []\n",
    "epocs = 30\n",
    "model = Model(lr=learning_rate)\n",
    "\n",
    "for j in range(epocs):\n",
    "    for i in range(dataset_counter):\n",
    "        p_t = T.tensor(train_array[batch_size*i:batch_size*(i+1)], dtype=T.float32).to(model.device)\n",
    "        a_t = T.tensor(transported_array[batch_size*i:batch_size*(i+1)], dtype=T.float32).to(model.device)\n",
    "        pred = model.forward(p_t)\n",
    "        # train the model\n",
    "        model.train()\n",
    "        model.optimizer.zero_grad()\n",
    "        loss = model.loss(a_t, pred)\n",
    "        loss.backward()\n",
    "        model.optimizer.step()\n",
    "        model.eval()\n",
    "        # save loss for plotting later\n",
    "        losses.append(loss.item())\n",
    "\n",
    "plt.plot(losses)"
   ]
  },
  {
   "cell_type": "code",
   "execution_count": 17,
   "metadata": {},
   "outputs": [],
   "source": [
    "test_array = df_to_np(test_df)\n",
    "submission = pd.DataFrame(passanger_df)\n",
    "transported = []\n",
    "\n",
    "for i in range(test_array.shape[0]):\n",
    "    t_t = T.tensor(test_array[i], dtype=T.float32).to(model.device)\n",
    "    p = model.forward(t_t)\n",
    "    if p[0].item() > 0.5:\n",
    "        transported.append(True)\n",
    "    else:\n",
    "        transported.append(False)\n",
    "\n",
    "submission['Transported'] = transported\n",
    "submission.to_csv('submission.csv',index=False)"
   ]
  }
 ],
 "metadata": {
  "kernelspec": {
   "display_name": "Python 3",
   "language": "python",
   "name": "python3"
  },
  "language_info": {
   "codemirror_mode": {
    "name": "ipython",
    "version": 3
   },
   "file_extension": ".py",
   "mimetype": "text/x-python",
   "name": "python",
   "nbconvert_exporter": "python",
   "pygments_lexer": "ipython3",
   "version": "3.9.13"
  }
 },
 "nbformat": 4,
 "nbformat_minor": 2
}
